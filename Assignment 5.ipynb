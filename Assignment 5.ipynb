{
 "cells": [
  {
   "cell_type": "code",
   "execution_count": null,
   "id": "e3c08afd",
   "metadata": {},
   "outputs": [],
   "source": [
    "#Assignment 5\n",
    "#Student of Datatrained -Saurav\n",
    "#Student of Data Science"
   ]
  },
  {
   "cell_type": "code",
   "execution_count": 1,
   "id": "6a214ce6",
   "metadata": {},
   "outputs": [],
   "source": [
    "# Functions\n",
    "#   Practice the code given below\n",
    "#   \n",
    "#   def square(x):\n",
    "#      return x*x\n",
    "#   print(square(4))"
   ]
  },
  {
   "cell_type": "code",
   "execution_count": 5,
   "id": "e5d57743",
   "metadata": {},
   "outputs": [],
   "source": [
    "def square(num):\n",
    "    return num**2"
   ]
  },
  {
   "cell_type": "code",
   "execution_count": 7,
   "id": "e5532458",
   "metadata": {},
   "outputs": [
    {
     "name": "stdout",
     "output_type": "stream",
     "text": [
      "16\n"
     ]
    }
   ],
   "source": [
    "print(square(4))"
   ]
  },
  {
   "cell_type": "code",
   "execution_count": 8,
   "id": "6df3e473",
   "metadata": {},
   "outputs": [],
   "source": [
    "# def add_numbers(x,y):\n",
    "#      sum = x + y\n",
    "#      return sum\n",
    "#   num1 = 5\n",
    "#   num2 = 6\n",
    "#   print(\"The sum is\", add_numbers(num1, num2))\n",
    "#   "
   ]
  },
  {
   "cell_type": "code",
   "execution_count": 9,
   "id": "db49802e",
   "metadata": {},
   "outputs": [],
   "source": [
    "def add_numbers(num1,num2):\n",
    "    return num1+num2"
   ]
  },
  {
   "cell_type": "code",
   "execution_count": 11,
   "id": "45596e29",
   "metadata": {},
   "outputs": [
    {
     "name": "stdout",
     "output_type": "stream",
     "text": [
      "The Sum of  11\n"
     ]
    }
   ],
   "source": [
    "print(\"The Sum of \",add_numbers(5,6))"
   ]
  },
  {
   "cell_type": "code",
   "execution_count": 12,
   "id": "f458507f",
   "metadata": {},
   "outputs": [],
   "source": [
    "#   def greet(name, msg):\n",
    "#       \"\"\"This function greets to\n",
    "#       the person with the provided message\"\"\"\n",
    "#       print(\"Hello\", name + ', ' + msg)\n",
    "#   greet(\"Andrew\", \"Good morning!\")\n",
    "#   "
   ]
  },
  {
   "cell_type": "code",
   "execution_count": 13,
   "id": "eb7a3bed",
   "metadata": {},
   "outputs": [],
   "source": [
    "def greet(name,message):\n",
    "    print('Hello ',name,\" \",message)\n"
   ]
  },
  {
   "cell_type": "code",
   "execution_count": 15,
   "id": "ca94ce1f",
   "metadata": {},
   "outputs": [
    {
     "name": "stdout",
     "output_type": "stream",
     "text": [
      "Hello  Saurav   Call   me  urgently\n"
     ]
    }
   ],
   "source": [
    "greet(\"Saurav\",\"Call   me  urgently\")"
   ]
  },
  {
   "cell_type": "code",
   "execution_count": 16,
   "id": "6da3cb16",
   "metadata": {},
   "outputs": [],
   "source": [
    "#   Task:\n",
    "#   Write a program to create a function that takes two arguments, name and age, and print their value.\n",
    "#   "
   ]
  },
  {
   "cell_type": "code",
   "execution_count": 22,
   "id": "8e9a31b1",
   "metadata": {},
   "outputs": [],
   "source": [
    "def func(name,age):\n",
    "    print(f\"The Name of func is {name} and age is {age}\")"
   ]
  },
  {
   "cell_type": "code",
   "execution_count": 23,
   "id": "244b088e",
   "metadata": {},
   "outputs": [
    {
     "name": "stdout",
     "output_type": "stream",
     "text": [
      "The Name of func is saurav and age is 23\n"
     ]
    }
   ],
   "source": [
    "func(\"saurav\",23)"
   ]
  },
  {
   "cell_type": "code",
   "execution_count": 24,
   "id": "9c01227f",
   "metadata": {},
   "outputs": [],
   "source": [
    "#   Task : Write a function absolute_value to find absolute of a given number.\n",
    "#   Soln.\n",
    "#   def absolute_value(num):\n",
    "#       \"\"\"This function returns the absolute\n",
    "#       value of the entered number\"\"\"\n",
    "#       if num >= 0:\n",
    "#           return num\n",
    "#       else:\n",
    "#           return -num\n",
    "#   print(absolute_value(2))\n",
    "#   print(absolute_value(-4))"
   ]
  },
  {
   "cell_type": "code",
   "execution_count": 30,
   "id": "5e7d3c4f",
   "metadata": {},
   "outputs": [],
   "source": [
    "def absolute_values(num):\n",
    "    if num>=0:\n",
    "        return num\n",
    "    else:\n",
    "        return -num"
   ]
  },
  {
   "cell_type": "code",
   "execution_count": 26,
   "id": "aca107ff",
   "metadata": {},
   "outputs": [
    {
     "name": "stdout",
     "output_type": "stream",
     "text": [
      "2\n"
     ]
    }
   ],
   "source": [
    "print(absolute_values(2))"
   ]
  },
  {
   "cell_type": "code",
   "execution_count": 31,
   "id": "c9bba930",
   "metadata": {},
   "outputs": [
    {
     "name": "stdout",
     "output_type": "stream",
     "text": [
      "4\n"
     ]
    }
   ],
   "source": [
    "print(absolute_values(-4))"
   ]
  },
  {
   "cell_type": "code",
   "execution_count": 33,
   "id": "9ffde6f4",
   "metadata": {},
   "outputs": [],
   "source": [
    "#   Task : write a function multiply to calculate multiplication of two numbers by taking as a\n",
    "#   arguments.\n",
    "#   Soln.\n",
    "#   def multiply(x,y):\n",
    "#    print\"value of x=\",x\n",
    "#    print\"value of y=\",y\n",
    "#    return x*y\n",
    "#   print multiply(2,4)"
   ]
  },
  {
   "cell_type": "code",
   "execution_count": 42,
   "id": "8c2250db",
   "metadata": {},
   "outputs": [],
   "source": [
    "def multiply(num1,num2):\n",
    "    print(\"Value of X =\", num1)\n",
    "    print(\"Value of Y= \",num2)\n",
    "    return num1*num2\n",
    "\n"
   ]
  },
  {
   "cell_type": "code",
   "execution_count": 43,
   "id": "37c74deb",
   "metadata": {},
   "outputs": [
    {
     "name": "stdout",
     "output_type": "stream",
     "text": [
      "Value of X = 2\n",
      "Value of Y=  4\n"
     ]
    },
    {
     "data": {
      "text/plain": [
       "8"
      ]
     },
     "execution_count": 43,
     "metadata": {},
     "output_type": "execute_result"
    }
   ],
   "source": [
    "multiply(2,4)"
   ]
  },
  {
   "cell_type": "code",
   "execution_count": 44,
   "id": "51123031",
   "metadata": {},
   "outputs": [],
   "source": [
    "#   Task : write a function division to calculate division of two numbers by taking as a arguments.\n",
    " \n",
    "    \n"
   ]
  },
  {
   "cell_type": "code",
   "execution_count": 49,
   "id": "2a98b0c0",
   "metadata": {},
   "outputs": [],
   "source": [
    "def divide(arg1,arg2):\n",
    "    print(\"The Value of X is \",arg1)\n",
    "    print(\"The Value of Y is \",arg2)\n",
    "    return arg1/arg2"
   ]
  },
  {
   "cell_type": "code",
   "execution_count": 51,
   "id": "21dc8e33",
   "metadata": {},
   "outputs": [
    {
     "name": "stdout",
     "output_type": "stream",
     "text": [
      "The Value of X is  4\n",
      "The Value of Y is  2\n"
     ]
    },
    {
     "data": {
      "text/plain": [
       "2.0"
      ]
     },
     "execution_count": 51,
     "metadata": {},
     "output_type": "execute_result"
    }
   ],
   "source": [
    "divide(4,2)"
   ]
  },
  {
   "cell_type": "code",
   "execution_count": 52,
   "id": "29ecc2ba",
   "metadata": {},
   "outputs": [],
   "source": [
    "#   # local variables and global variables\n",
    "#   def my_func():\n",
    "#    x = 10\n",
    "#    print(\"Value inside function:\",x)\n",
    "#   x = 20\n",
    "#   my_func()\n",
    "#   print(\"Value outside function:\",x)\n"
   ]
  },
  {
   "cell_type": "code",
   "execution_count": 56,
   "id": "fb52a6ba",
   "metadata": {},
   "outputs": [],
   "source": [
    "def my_func():\n",
    "    x=10\n",
    "    print(\"Value inside the function called local variable\")"
   ]
  },
  {
   "cell_type": "code",
   "execution_count": 54,
   "id": "6005fa96",
   "metadata": {},
   "outputs": [],
   "source": [
    "x=20\n",
    "def my_func():\n",
    "    print(\"The Value of X is \",x, \"and its a global variable\")"
   ]
  },
  {
   "cell_type": "code",
   "execution_count": 55,
   "id": "5d2f92b7",
   "metadata": {},
   "outputs": [
    {
     "name": "stdout",
     "output_type": "stream",
     "text": [
      "The Value of X is  20 and its a global variable\n"
     ]
    }
   ],
   "source": [
    "my_func()"
   ]
  },
  {
   "cell_type": "code",
   "execution_count": 57,
   "id": "141e012c",
   "metadata": {},
   "outputs": [],
   "source": [
    "#   squares = list(map(lambda x: x**2, range(10)))\n"
   ]
  },
  {
   "cell_type": "code",
   "execution_count": 63,
   "id": "5591c485",
   "metadata": {},
   "outputs": [],
   "source": [
    "square=list(map(lambda x:x**2 ,range(10)))"
   ]
  },
  {
   "cell_type": "code",
   "execution_count": 64,
   "id": "9c5a638e",
   "metadata": {},
   "outputs": [
    {
     "data": {
      "text/plain": [
       "[0, 1, 4, 9, 16, 25, 36, 49, 64, 81]"
      ]
     },
     "execution_count": 64,
     "metadata": {},
     "output_type": "execute_result"
    }
   ],
   "source": [
    "square"
   ]
  },
  {
   "cell_type": "code",
   "execution_count": 65,
   "id": "003473e3",
   "metadata": {},
   "outputs": [],
   "source": [
    "#   squares = [x**2 for x in range(10)]"
   ]
  },
  {
   "cell_type": "code",
   "execution_count": 68,
   "id": "8a036c55",
   "metadata": {},
   "outputs": [],
   "source": [
    "squares=[x**2 for x in range(10)]"
   ]
  },
  {
   "cell_type": "code",
   "execution_count": 69,
   "id": "ac4d7697",
   "metadata": {},
   "outputs": [
    {
     "data": {
      "text/plain": [
       "[0, 1, 4, 9, 16, 25, 36, 49, 64, 81]"
      ]
     },
     "execution_count": 69,
     "metadata": {},
     "output_type": "execute_result"
    }
   ],
   "source": [
    "squares"
   ]
  },
  {
   "cell_type": "code",
   "execution_count": 70,
   "id": "3e857a88",
   "metadata": {},
   "outputs": [],
   "source": [
    "#   Task : Write the above code to find cube of x.\n",
    "#   sequences = [10,2,8,7,5,4,3,11,0, 1]\n",
    "#   filtered_result = map (lambda x: x*x, sequences)\n",
    "#   print(list(filtered_result))\n",
    " "
   ]
  },
  {
   "cell_type": "code",
   "execution_count": 71,
   "id": "ddd384da",
   "metadata": {},
   "outputs": [
    {
     "name": "stdout",
     "output_type": "stream",
     "text": [
      "[1000, 8, 512, 343, 125, 64, 27, 1331, 0, 1]\n"
     ]
    }
   ],
   "source": [
    "sequences = [10,2,8,7,5,4,3,11,0, 1]\n",
    "filtered_method=map(lambda x:x**3,sequences)\n",
    "print(list(filtered_method))"
   ]
  },
  {
   "cell_type": "code",
   "execution_count": 72,
   "id": "7b2a823d",
   "metadata": {},
   "outputs": [],
   "source": [
    "#   Task : write the above code for the expression x**3\n",
    "#   sequences = [10,2,8,7,5,4,3,11,0, 1]\n",
    "#   filtered_result = filter (lambda x: x > 4, sequences)\n",
    "#   print(list(filtered_result))"
   ]
  },
  {
   "cell_type": "code",
   "execution_count": 74,
   "id": "5b28b1e7",
   "metadata": {},
   "outputs": [
    {
     "name": "stdout",
     "output_type": "stream",
     "text": [
      "[10, 8, 7, 5, 11]\n"
     ]
    }
   ],
   "source": [
    "sequences = [10,2,8,7,5,4,3,11,0, 1]\n",
    "filtered_method=filter(lambda x:x>4,sequences)\n",
    "print(list(filtered_method))"
   ]
  },
  {
   "cell_type": "code",
   "execution_count": 75,
   "id": "08f36408",
   "metadata": {},
   "outputs": [],
   "source": [
    " #   Task : write the above code for the expression x>5.\n",
    "#   squares = []\n",
    "#   for x in range(10):\n",
    "#   ... squares.append(x**2)\n",
    "#   print(squares)"
   ]
  },
  {
   "cell_type": "code",
   "execution_count": 76,
   "id": "360fdd7e",
   "metadata": {},
   "outputs": [
    {
     "name": "stdout",
     "output_type": "stream",
     "text": [
      "[0, 1, 4, 9, 16, 25, 36, 49, 64, 81]\n"
     ]
    }
   ],
   "source": [
    "sqaures=[]\n",
    "for x in range(10):\n",
    "    sqaures.append(x**2)\n",
    "print(squares)    "
   ]
  },
  {
   "cell_type": "code",
   "execution_count": 77,
   "id": "01032387",
   "metadata": {},
   "outputs": [],
   "source": [
    "#   Task :\n",
    "#   1. Put the above 4 lines in as user defined function and call the function  \n",
    "#   2.Given two integer numbers return their product only if the product is equal to or lower than\n",
    "#   1000, else return their sum.\n",
    "#   HINT:\n",
    "#   Create a function that will take two numbers as parameters\n",
    "#   Next, Inside a function, multiply two numbers and save their product in a product variable\n",
    "#   Next, use the if condition to check if the product >1000. If yes, return the product\n",
    "#   Otherwise, use the else block to calculate the sum of two numbers and return it."
   ]
  },
  {
   "cell_type": "code",
   "execution_count": 80,
   "id": "fd5d8f19",
   "metadata": {},
   "outputs": [],
   "source": [
    "def my_func(num1,num2):\n",
    "    product=num1 * num2\n",
    "    if  product>1000:\n",
    "        return product\n",
    "    else:\n",
    "        return num1+num2\n",
    "        "
   ]
  },
  {
   "cell_type": "code",
   "execution_count": 83,
   "id": "03dc6726",
   "metadata": {},
   "outputs": [
    {
     "name": "stdout",
     "output_type": "stream",
     "text": [
      "The Result of 1 condition is   1350\n"
     ]
    }
   ],
   "source": [
    "print(\"The Result of 1 condition is  \",my_func(25,54))"
   ]
  },
  {
   "cell_type": "code",
   "execution_count": 84,
   "id": "50cc0f0c",
   "metadata": {},
   "outputs": [
    {
     "name": "stdout",
     "output_type": "stream",
     "text": [
      "The Result of 2 condition is   6\n"
     ]
    }
   ],
   "source": [
    "print(\"The Result of 2 condition is  \",my_func(4,2))"
   ]
  },
  {
   "cell_type": "code",
   "execution_count": 85,
   "id": "6e7943c7",
   "metadata": {},
   "outputs": [],
   "source": [
    "#3 .\n",
    "#Task: Check if the first and last number of a list is the same.\n",
    "#Write a function to return True if the first and last number of a given list is same. \n",
    "#If numbers are different then return False."
   ]
  },
  {
   "cell_type": "code",
   "execution_count": 86,
   "id": "af2cbf9e",
   "metadata": {},
   "outputs": [],
   "source": [
    "#numbers_x = [10, 20, 30, 40, 10]"
   ]
  },
  {
   "cell_type": "code",
   "execution_count": 88,
   "id": "9297e5b4",
   "metadata": {},
   "outputs": [],
   "source": [
    "def my_func(numberlist):\n",
    "    first_num=numberlist[0]\n",
    "    last_num=numberlist[-1]\n",
    "    if first_num==last_num:\n",
    "        print(\"True\")\n",
    "    else:\n",
    "        print(\"False\")"
   ]
  },
  {
   "cell_type": "code",
   "execution_count": 95,
   "id": "a16ac29e",
   "metadata": {},
   "outputs": [],
   "source": [
    "numbers_x = [10, 20, 30, 40, 10]\n",
    "number_y=[75, 65, 35, 75, 30]\n"
   ]
  },
  {
   "cell_type": "code",
   "execution_count": 96,
   "id": "b53d5b4c",
   "metadata": {},
   "outputs": [
    {
     "name": "stdout",
     "output_type": "stream",
     "text": [
      "True\n"
     ]
    }
   ],
   "source": [
    "my_func(numbers_x)"
   ]
  },
  {
   "cell_type": "code",
   "execution_count": 97,
   "id": "580872fb",
   "metadata": {},
   "outputs": [
    {
     "name": "stdout",
     "output_type": "stream",
     "text": [
      "False\n"
     ]
    }
   ],
   "source": [
    "my_func(number_y)"
   ]
  },
  {
   "cell_type": "code",
   "execution_count": null,
   "id": "d7ffe783",
   "metadata": {},
   "outputs": [],
   "source": [
    "#Student of Datatrained - Saurav\n",
    "#Student of Data Science\n",
    "#Date-04-july-2022\n",
    "#Time-15:06"
   ]
  }
 ],
 "metadata": {
  "kernelspec": {
   "display_name": "Python 3 (ipykernel)",
   "language": "python",
   "name": "python3"
  },
  "language_info": {
   "codemirror_mode": {
    "name": "ipython",
    "version": 3
   },
   "file_extension": ".py",
   "mimetype": "text/x-python",
   "name": "python",
   "nbconvert_exporter": "python",
   "pygments_lexer": "ipython3",
   "version": "3.9.12"
  }
 },
 "nbformat": 4,
 "nbformat_minor": 5
}
